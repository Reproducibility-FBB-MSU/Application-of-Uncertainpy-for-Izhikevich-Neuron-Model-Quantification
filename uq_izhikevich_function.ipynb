{
 "cells": [
  {
   "cell_type": "markdown",
   "metadata": {},
   "source": [
    "# Модуль для вычисления модели с учетом неопределенности модулем Uncertainpy"
   ]
  },
  {
   "cell_type": "markdown",
   "metadata": {},
   "source": [
    "Импортрируем сам модуль Uncertainpy и модель нейрона Ижикевича"
   ]
  },
  {
   "cell_type": "code",
   "execution_count": null,
   "metadata": {},
   "outputs": [],
   "source": [
    "import uncertainpy as un\n",
    "from izhikevich_function import izhikevich"
   ]
  },
  {
   "cell_type": "markdown",
   "metadata": {},
   "source": [
    "Задаем функцию go, которая будет запускать вычисление модели по заданным параметрам.\n",
    "По умолчанию заданы параметры для Regular Spiking (RS)."
   ]
  },
  {
   "cell_type": "markdown",
   "metadata": {},
   "source": [
    "Описание использующихся параметров:\n",
    "\n",
    "V - потенциал на мембране. U - волшебная функция в математической модели, которая понижает V обратно после потенциала действия (ПД). С ростом U уменьшается V.\n",
    "\n",
    "Параметр C - это величина потенциала на мембране, к которому нейрон возвращается после ПД\n",
    " \n",
    "Остальное - это параметры для величины U, которая действует на потенциал на мембране противоположно действию стимула.\n",
    " \n",
    "Параметр A - это скорость падения величины U после ПД.\n",
    "\n",
    "Параметр B задаёт, насколько величина U чувствительна к изменению потенциала на мембране. Если B большое, то U быстро вырастает при пд и быстро понижает обратно V.\n",
    " \n",
    "Параметр D задает, насколько высоко вырастает U при ПД."
   ]
  },
  {
   "cell_type": "code",
   "execution_count": null,
   "metadata": {},
   "outputs": [],
   "source": [
    "\n",
    "def go(parameter_list = [[\"a\", 0.02, None],\n",
    "                      [\"b\", 0.2, None],\n",
    "                      [\"c\", -65, None],\n",
    "                      [\"d\", 8, None]]):"
   ]
  },
  {
   "cell_type": "markdown",
   "metadata": {},
   "source": [
    "Создаем класс параметов, с которым модулю Uncertainpy удобнее работать, а также указываем, что параметры имеют равномерное распредление с 50% интервалом вокруг указанного значению."
   ]
  },
  {
   "cell_type": "code",
   "execution_count": null,
   "metadata": {},
   "outputs": [],
   "source": [
    "    parameters = un.Parameters(parameter_list)\n",
    "    parameters.set_all_distributions(un.uniform(0.5))"
   ]
  },
  {
   "cell_type": "markdown",
   "metadata": {},
   "source": [
    "Созаем класс самой модели и подписываем оси построения. Указываем, чтобы вычисления производились с учетом неопределенности всех параметров."
   ]
  },
  {
   "cell_type": "code",
   "execution_count": null,
   "metadata": {},
   "outputs": [],
   "source": [
    "    model = un.Model(izhikevich,\n",
    "                     labels=[\"Time (ms)\", \"Voltage (mV)\"])\n",
    "    features = un.SpikingFeatures(features_to_run=\"all\")"
   ]
  },
  {
   "cell_type": "markdown",
   "metadata": {},
   "source": [
    "Запускаем вычисление модели с заданными параметрами."
   ]
  },
  {
   "cell_type": "code",
   "execution_count": null,
   "metadata": {},
   "outputs": [],
   "source": [
    "    UQ = un.UncertaintyQuantification(model=model,\n",
    "                                      parameters=parameters,\n",
    "                                      features=features)\n",
    "    data = UQ.quantify()"
   ]
  },
  {
   "cell_type": "markdown",
   "metadata": {},
   "source": [
    "Результаты созраняются в папках data и figures."
   ]
  }
 ],
 "metadata": {
  "kernelspec": {
   "display_name": "Python 3",
   "language": "python",
   "name": "python3"
  },
  "language_info": {
   "codemirror_mode": {
    "name": "ipython",
    "version": 3
   },
   "file_extension": ".py",
   "mimetype": "text/x-python",
   "name": "python",
   "nbconvert_exporter": "python",
   "pygments_lexer": "ipython3",
   "version": "3.6.7"
  }
 },
 "nbformat": 4,
 "nbformat_minor": 2
}
